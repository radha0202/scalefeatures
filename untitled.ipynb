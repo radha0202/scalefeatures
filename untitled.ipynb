{
 "cells": [
  {
   "cell_type": "code",
   "execution_count": 1,
   "id": "9f43349f",
   "metadata": {},
   "outputs": [
    {
     "name": "stdout",
     "output_type": "stream",
     "text": [
      "Original Data:\n",
      "   Region   Age   Income Online Shopper\n",
      "0   India  49.0  86400.0             No\n",
      "1  Brazil  32.0  57600.0            Yes\n",
      "2     USA  35.0  64800.0             No\n",
      "3  Brazil  43.0  73200.0             No\n",
      "4     USA  45.0      NaN            Yes\n",
      "\n",
      "Preprocessed Data:\n",
      "   Region       Age    Income Online Shopper\n",
      "0   India  0.758874  0.749473             No\n",
      "1  Brazil -1.711504 -1.438178            Yes\n",
      "2     USA -1.275555 -0.891265             No\n",
      "3  Brazil -0.113024 -0.253200             No\n",
      "4     USA  0.177609  0.000000            Yes\n"
     ]
    }
   ],
   "source": [
    "import pandas as pd\n",
    "from sklearn.preprocessing import StandardScaler\n",
    "from sklearn.impute import SimpleImputer\n",
    "df = pd.read_csv('data_preprocess.csv')\n",
    "print(\"Original Data:\")\n",
    "print(df.head())\n",
    "imputer = SimpleImputer(strategy='mean')\n",
    "df[['Age', 'Income']] = imputer.fit_transform(df[['Age', 'Income']])\n",
    "scaler = StandardScaler()\n",
    "df[['Age', 'Income']] = scaler.fit_transform(df[['Age', 'Income']])\n",
    "print(\"\\nPreprocessed Data:\")\n",
    "print(df.head())"
   ]
  },
  {
   "cell_type": "code",
   "execution_count": null,
   "id": "325791d2",
   "metadata": {},
   "outputs": [],
   "source": []
  }
 ],
 "metadata": {
  "kernelspec": {
   "display_name": "Python 3 (ipykernel)",
   "language": "python",
   "name": "python3"
  },
  "language_info": {
   "codemirror_mode": {
    "name": "ipython",
    "version": 3
   },
   "file_extension": ".py",
   "mimetype": "text/x-python",
   "name": "python",
   "nbconvert_exporter": "python",
   "pygments_lexer": "ipython3",
   "version": "3.9.12"
  }
 },
 "nbformat": 4,
 "nbformat_minor": 5
}
